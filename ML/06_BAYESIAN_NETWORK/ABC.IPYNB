{
 "metadata": {
  "language_info": {
   "codemirror_mode": {
    "name": "ipython",
    "version": 3
   },
   "file_extension": ".py",
   "mimetype": "text/x-python",
   "name": "python",
   "nbconvert_exporter": "python",
   "pygments_lexer": "ipython3",
   "version": "3.9.5"
  },
  "orig_nbformat": 2,
  "kernelspec": {
   "name": "python395jvsc74a57bd038740d3277777e2cd7c6c2cc9d8addf5118fdf3f82b1b39231fd12aeac8aee8b",
   "display_name": "Python 3.9.5 64-bit"
  },
  "metadata": {
   "interpreter": {
    "hash": "38740d3277777e2cd7c6c2cc9d8addf5118fdf3f82b1b39231fd12aeac8aee8b"
   }
  }
 },
 "nbformat": 4,
 "nbformat_minor": 2,
 "cells": [
  {
   "cell_type": "code",
   "execution_count": 3,
   "metadata": {},
   "outputs": [
    {
     "output_type": "error",
     "ename": "ModuleNotFoundError",
     "evalue": "No module named 'numpy'",
     "traceback": [
      "\u001b[1;31m---------------------------------------------------------------------------\u001b[0m",
      "\u001b[1;31mModuleNotFoundError\u001b[0m                       Traceback (most recent call last)",
      "\u001b[1;32m<ipython-input-3-7d076ac8a7bb>\u001b[0m in \u001b[0;36m<module>\u001b[1;34m\u001b[0m\n\u001b[1;32m----> 1\u001b[1;33m \u001b[1;32mimport\u001b[0m \u001b[0mnumpy\u001b[0m \u001b[1;32mas\u001b[0m \u001b[0mnp\u001b[0m\u001b[1;33m\u001b[0m\u001b[1;33m\u001b[0m\u001b[0m\n\u001b[0m\u001b[0;32m      2\u001b[0m \u001b[1;32mimport\u001b[0m \u001b[0mpandas\u001b[0m \u001b[1;32mas\u001b[0m \u001b[0mpd\u001b[0m\u001b[1;33m\u001b[0m\u001b[1;33m\u001b[0m\u001b[0m\n\u001b[0;32m      3\u001b[0m \u001b[1;32mimport\u001b[0m \u001b[0mcsv\u001b[0m\u001b[1;33m\u001b[0m\u001b[1;33m\u001b[0m\u001b[0m\n\u001b[0;32m      4\u001b[0m \u001b[1;32mfrom\u001b[0m \u001b[0mpgmpy\u001b[0m\u001b[1;33m.\u001b[0m\u001b[0mestimators\u001b[0m \u001b[1;32mimport\u001b[0m \u001b[0mMaximumLikelihoodEstimator\u001b[0m\u001b[1;33m\u001b[0m\u001b[1;33m\u001b[0m\u001b[0m\n\u001b[0;32m      5\u001b[0m \u001b[1;32mfrom\u001b[0m \u001b[0mpgmpy\u001b[0m\u001b[1;33m.\u001b[0m\u001b[0mmodels\u001b[0m \u001b[1;32mimport\u001b[0m \u001b[0mBayesianModel\u001b[0m\u001b[1;33m\u001b[0m\u001b[1;33m\u001b[0m\u001b[0m\n",
      "\u001b[1;31mModuleNotFoundError\u001b[0m: No module named 'numpy'"
     ]
    }
   ],
   "source": [
    "import numpy as np\n",
    "import pandas as pd\n",
    "import csv \n",
    "from pgmpy.estimators import MaximumLikelihoodEstimator\n",
    "from pgmpy.models import BayesianModel\n",
    "from pgmpy.inference import VariableElimination\n",
    "\n",
    "marks_model = BayesianModel([('Smart','Prep'),\n",
    "                             ('Study','Prep'),\n",
    "                             ('Fair','Pass'),\n",
    "                            ('Smart','Pass'),\n",
    "                            ('Prep','Pass')])\n",
    "\n",
    "print(\"Bayesian network nodes are \",marks_model.nodes())\n",
    "print(\"Bayesian network edges are \",marks_model.edges())\n",
    "cpd_smart = TabularCPD(variable = 'Smart',variable_card = 2, values = [[0.8],[0.2]])\n",
    "cpd_fair = TabularCPD(variable = 'Fair',variable_card = 2, values = [[0.9],[0.1]])\n",
    "cpd_study = TabularCPD(variable = 'Study',variable_card = 2, values = [[0.6],[0.4]])\n",
    "cpd_prep = TabularCPD(variable = 'Prep',variable_card = 2, values = [[0.9,0.7,0.5,0.1],[0.1,0.3,0.5,0.9]],evidence = ['Smart','Study'],evidence_card = [2,2])\n",
    "cpd_pass=TabularCPD(variable='Pass',variable_card = 2, values = [[0.9,0.7,0.7,0.2,0.1,0.1,0.1,0.1],[0.1,0.3,0.3,0.8,0.9,0.9,0.9,0.9]], evidence = ['Fair','Prep','Smart'],evidence_card = [2,2,2])\n",
    "\n",
    "marks_model.add_cpds(cpd_smart,cpd_prep,cpd_fair,cpd_study,cpd_pass)\n",
    "marks_model.check_model()\n",
    "\n",
    "marks_infer = VariableElimination(marks_model)\n",
    "q = marks_infer.query(variables = ['Study'] , evidence = {'Pass':1})\n",
    "print(q)"
   ]
  },
  {
   "cell_type": "code",
   "execution_count": null,
   "metadata": {},
   "outputs": [],
   "source": []
  }
 ]
}