{
 "metadata": {
  "language_info": {
   "codemirror_mode": {
    "name": "ipython",
    "version": 3
   },
   "file_extension": ".py",
   "mimetype": "text/x-python",
   "name": "python",
   "nbconvert_exporter": "python",
   "pygments_lexer": "ipython3",
   "version": "3.8.3-final"
  },
  "orig_nbformat": 2,
  "kernelspec": {
   "name": "python3",
   "display_name": "Python 3.8.3 64-bit ('base': conda)",
   "metadata": {
    "interpreter": {
     "hash": "183bbf6827d058c2a2fb0f4acdc0420849dda2b4380af0e437e38c64d798d8b7"
    }
   }
  }
 },
 "nbformat": 4,
 "nbformat_minor": 2,
 "cells": [
  {
   "cell_type": "code",
   "execution_count": 3,
   "metadata": {},
   "outputs": [
    {
     "output_type": "stream",
     "name": "stdout",
     "text": [
      "<bound method NDFrame.head of      num_preg  glucose_conc  diastolic_bp  thickness  insulin   bmi  \\\n0           6           148            72         35        0  33.6   \n1           1            85            66         29        0  26.6   \n2           8           183            64          0        0  23.3   \n3           1            89            66         23       94  28.1   \n4           0           137            40         35      168  43.1   \n..        ...           ...           ...        ...      ...   ...   \n140         3           128            78          0        0  21.1   \n141         5           106            82         30        0  39.5   \n142         2           108            52         26       63  32.5   \n143        10           108            66          0        0  32.4   \n144         4           154            62         31      284  32.8   \n\n     diab_pred  age  diabetes  \n0        0.627   50         1  \n1        0.351   31         0  \n2        0.672   32         1  \n3        0.167   21         0  \n4        2.288   33         1  \n..         ...  ...       ...  \n140      0.268   55         0  \n141      0.286   38         0  \n142      0.318   22         0  \n143      0.272   42         1  \n144      0.237   23         0  \n\n[145 rows x 9 columns]>\n\n the total number of Training Data : (116, 1)\n\n the total number of Test Data : (29, 1)\n\n Confusion matrix\n[[13  5]\n [ 3  8]]\n\n Accuracy of the classifier is 0.7241379310344828\n\n The value of Precision 0.6153846153846154\n\n The value of Recall 0.7272727272727273\nPredicted Value for individual Test Data: [1]\n"
     ]
    }
   ],
   "source": [
    "import pandas as pd\n",
    "from sklearn.model_selection import train_test_split\n",
    "from sklearn.naive_bayes import GaussianNB\n",
    "from sklearn import metrics\n",
    "\n",
    "df = pd.read_csv(\"dataset.csv\")\n",
    "feature_col_names = ['num_preg', 'glucose_conc', 'diastolic_bp', 'thickness', 'insulin', 'bmi', 'diab_pred', 'age']\n",
    "predicted_class_names = ['diabetes']\n",
    "\n",
    "X = df[feature_col_names].values \n",
    "y = df[predicted_class_names].values\n",
    "\n",
    "print(df.head)\n",
    "xtrain,xtest,ytrain,ytest=train_test_split(X,y,test_size=0.20)\n",
    "\n",
    "print ('\\n the total number of Training Data :',ytrain.shape)\n",
    "print ('\\n the total number of Test Data :',ytest.shape)\n",
    "\n",
    "clf = GaussianNB().fit(xtrain,ytrain.ravel())\n",
    "predicted = clf.predict(xtest)\n",
    "predictTestData= clf.predict([[6,148,72,35,0,33.6,0.627,50]])\n",
    "\n",
    "print('\\n Confusion matrix')\n",
    "print(metrics.confusion_matrix(ytest,predicted))\n",
    "\n",
    "print('\\n Accuracy of the classifier is',metrics.accuracy_score(ytest,predicted))\n",
    "\n",
    "print('\\n The value of Precision', metrics.precision_score(ytest,predicted))\n",
    "\n",
    "print('\\n The value of Recall', metrics.recall_score(ytest,predicted))\n",
    "\n",
    "print(\"Predicted Value for individual Test Data:\", predictTestData)"
   ]
  },
  {
   "cell_type": "code",
   "execution_count": null,
   "metadata": {},
   "outputs": [],
   "source": []
  }
 ]
}